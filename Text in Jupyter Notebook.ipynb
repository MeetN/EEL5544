{
 "cells": [
  {
   "cell_type": "markdown",
   "metadata": {},
   "source": [
    "# Text, Math, and Images in Jupyter Notebook"
   ]
  },
  {
   "cell_type": "markdown",
   "metadata": {},
   "source": [
    "You can enter text and math in Jupyter notebook using Markdown and $\\LaTeX$ math.\n",
    "\n",
    "If you don't know what those are, this notebook will get you started."
   ]
  },
  {
   "cell_type": "markdown",
   "metadata": {},
   "source": [
    "To enter text into a cell, change the cel type to Markdown. To do that, while editing that cell, choose the *Cell* menu, then choose the *Cell Type* menu item, and select the *Mark Down* option.\n",
    "\n",
    "You can then enter regular text into that cell, and Jupyter will not try to execute it as Python code."
   ]
  },
  {
   "cell_type": "markdown",
   "metadata": {},
   "source": [
    "## Markdown\n",
    "\n",
    "Markdown is a simple way to format your text. It is essentially a more concise subset of HTML.\n",
    "\n",
    "You can get an idea of the types of formatting from looking at the cells of this notebook (doubleclick the cell to reveal the Markdown code and click shift-return to process it back to formatted text).\n",
    "\n",
    "A good way to learn Markdown is to just get started using it and use a Markdown Cheatsheet as reference.  I like this [Markdown Cheat Sheet from packetlife.net](http://packetlife.net/media/library/16/Markdown.pdf)\n",
    "\n",
    "You don't need to, but you could read the [Markdown Syntax Reference](https://daringfireball.net/projects/markdown/syntax)"
   ]
  },
  {
   "cell_type": "markdown",
   "metadata": {},
   "source": [
    "## LaTeX\n",
    "\n",
    "$\\LaTeX$ is a text and mathematics formatting language that is widely used for producing scientific and engineering documents\n",
    "\n",
    "Jupyter Notebook supports the math part of $\\LaTeX$.  You can enter math in two ways. For math that should appear inline with the text, put it between \\$ \\$. For instance, here is some inline math: $\\sqrt{2 \\pi \\sigma^2}$.\n",
    "\n",
    "For math that is too big to go inline with the text, you can put it on a separate line and format it differently by putting it between \\$\\$ \\$\\$. Here is an example:\n",
    "$$\n",
    "\\Phi(x) = \\int_{-\\infty}^{x} \\frac{1}{\\sqrt{2 \\pi}} \\exp \n",
    "\\left( -\\frac{t^2}{2 \\sigma^2} \\right) ~ dt .\n",
    "$$\n",
    "\n",
    "If you look at the source for this block, you may see a lot of commands that you do not know or understand. That is okay, because you can use the [Daum Equation Editor](http://s1.daumcdn.net/editor/fp/service_nc/pencil/Pencil_chromestore.html) to generate the math commands for you.  Note that this requires Flash and may only work properly in Google Chrome.  There are also stand-alone versions, such as this [Mac Daum Equation Editor](https://itunes.apple.com/us/app/daum-equation-editor/id540665783?mt=12).  You can enter math using the graphical interface (similar to MS Equation Editor) and then copy the $\\LaTeX$ code at the bottom to paste into your Markdown documents."
   ]
  },
  {
   "cell_type": "markdown",
   "metadata": {},
   "source": [
    "## URLs and Images\n",
    "\n",
    "You can also add URLs and images to your document.  URLs are entered as \\[display tag](url), and images can be entered as \\!\\[Alternate text](url). See the cell above for URL examples. Here is an image example:\n",
    "\n",
    "![Increasing Events](increasing_events.png)"
   ]
  },
  {
   "cell_type": "markdown",
   "metadata": {},
   "source": [
    "## Keyboard Shortcuts\n",
    "\n",
    "It helps to know a few keyboard shortcuts when working with Jupyter. The main one that I use is *Ctrl-m m*, which changes a cell to Markdown. *Ctrl-m h* displays a list of shortcuts.\n",
    "\n",
    "For additional reference, here is a printable [Cheat Sheet for Jupyter Notebook Keyboard Shortcuts](https://www.cheatography.com/weidadeyue/cheat-sheets/jupyter-notebook/)"
   ]
  }
 ],
 "metadata": {
  "kernelspec": {
   "display_name": "Python 3",
   "language": "python",
   "name": "python3"
  },
  "language_info": {
   "codemirror_mode": {
    "name": "ipython",
    "version": 3
   },
   "file_extension": ".py",
   "mimetype": "text/x-python",
   "name": "python",
   "nbconvert_exporter": "python",
   "pygments_lexer": "ipython3",
   "version": "3.5.1"
  }
 },
 "nbformat": 4,
 "nbformat_minor": 0
}
